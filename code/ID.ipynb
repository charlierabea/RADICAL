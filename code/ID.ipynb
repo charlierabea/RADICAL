{
 "cells": [
  {
   "cell_type": "code",
   "execution_count": null,
   "metadata": {},
   "outputs": [],
   "source": [
    "import os\n",
    "import shutil\n",
    "\n",
    "source_directory = '/home/chengyili/data/CT/alzheimer_2011-Glaucoma_anonymized/'\n",
    "destination_directory = '/home/chengyili/data/CT/alzheimer_2011-Glaucoma_flat/'\n",
    "\n",
    "if not os.path.exists(destination_directory):\n",
    "    os.makedirs(destination_directory)\n",
    "\n",
    "# Traverse through the directory and copy & rename images\n",
    "for patient in os.listdir(source_directory):\n",
    "    patient_path = os.path.join(source_directory, patient)\n",
    "    if os.path.isdir(patient_path):\n",
    "        for study in os.listdir(patient_path):\n",
    "            study_path = os.path.join(patient_path, study)\n",
    "            for image in os.listdir(study_path):\n",
    "                if image.endswith('.bmp'):\n",
    "                    new_image_name = f\"{patient}_{study}_{image}\"\n",
    "                    source_image_path = os.path.join(study_path, image)\n",
    "                    dest_image_path = os.path.join(destination_directory, new_image_name)\n",
    "                    shutil.copy2(source_image_path, dest_image_path)\n"
   ]
  },
  {
   "cell_type": "code",
   "execution_count": null,
   "metadata": {},
   "outputs": [],
   "source": []
  }
 ],
 "metadata": {
  "language_info": {
   "name": "python"
  },
  "orig_nbformat": 4
 },
 "nbformat": 4,
 "nbformat_minor": 2
}
