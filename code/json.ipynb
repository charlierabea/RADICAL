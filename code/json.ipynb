{
 "cells": [
  {
   "cell_type": "code",
   "execution_count": null,
   "metadata": {},
   "outputs": [],
   "source": [
    "import pandas as pd\n",
    "import json\n",
    "import os\n",
    "\n",
    "# Load the Excel file\n",
    "excel_path = '/home/chengyili/data/CT/0824_test.xlsx'\n",
    "df = pd.read_excel(excel_path)"
   ]
  },
  {
   "cell_type": "code",
   "execution_count": null,
   "metadata": {},
   "outputs": [],
   "source": [
    "data = {}\n",
    "instruction_text = (\"You are an AI assistant specialized in radiology topics. \"\n",
    "                    \"\\n\\n You are provided with brain CT slices from a single study. \"\n",
    "                    \"The number of slices is usually around 30 when it's the coronal section, \"\n",
    "                    \"or 60 when sagittal section is added. \\n Please generate image caption based on image\")\n",
    "\n",
    "# Define the destination directory\n",
    "destination_directory = '/home/chengyili/data/CT/test/'"
   ]
  },
  {
   "cell_type": "code",
   "execution_count": null,
   "metadata": {},
   "outputs": [],
   "source": [
    "# Map each study to its set of images\n",
    "image_ids_map = {}\n",
    "for image_file in os.listdir(destination_directory):\n",
    "    if image_file.endswith('.bmp'):\n",
    "        key = \"_\".join(image_file.split('_')[:-1])  # Extracting everything except the last part (i.e., <x>_1, <x>_2, etc.)\n",
    "        if key not in image_ids_map:\n",
    "            image_ids_map[key] = []\n",
    "        image_ids_map[key].append(image_file)\n"
   ]
  },
  {
   "cell_type": "code",
   "execution_count": null,
   "metadata": {},
   "outputs": [],
   "source": [
    "# Build the JSON structure\n",
    "for index, row in df.iterrows():\n",
    "    key = f\"A_{row['Patient']}_Study_{row['Study']}\"\n",
    "    image_ids = image_ids_map.get(key, [])\n",
    "    \n",
    "    ins_id = f\"MED_INS_{str(index).zfill(5)}\"\n",
    "    data[ins_id] = {\n",
    "        \"instruction\": instruction_text,\n",
    "        \"answer\": row['Description'],\n",
    "        \"image_ids\": image_ids,\n",
    "        \"rel_ins_ids\": []\n",
    "    }"
   ]
  },
  {
   "cell_type": "code",
   "execution_count": null,
   "metadata": {},
   "outputs": [],
   "source": [
    "# Save the resulting JSON\n",
    "output_path = '/home/chengyili/data/CT/test.json'\n",
    "with open(output_path, 'w') as f:\n",
    "    json.dump(data, f, indent=4)"
   ]
  }
 ],
 "metadata": {
  "language_info": {
   "name": "python"
  },
  "orig_nbformat": 4
 },
 "nbformat": 4,
 "nbformat_minor": 2
}
